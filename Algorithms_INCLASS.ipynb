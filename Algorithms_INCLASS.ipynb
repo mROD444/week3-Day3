{
 "cells": [
  {
   "cell_type": "markdown",
   "metadata": {},
   "source": [
    "# Algorithms, Binary Search & Linked Lists"
   ]
  },
  {
   "cell_type": "markdown",
   "metadata": {},
   "source": [
    "## Tasks Today:\n",
    " \n",
    "1) <b>In-Place Algorithms</b> <br>\n",
    " &nbsp;&nbsp;&nbsp;&nbsp; a) Syntax <br>\n",
    " &nbsp;&nbsp;&nbsp;&nbsp; a) Out of Place Algorithm <br>\n",
    " &nbsp;&nbsp;&nbsp;&nbsp; b) In-Class Exercise #1 <br>\n",
    "2) <b>Two Pointers</b> <br>\n",
    "3) <b>Linked Lists</b> <br>\n",
    "4) <b>Merge Sort</b> <br>\n",
    " &nbsp;&nbsp;&nbsp;&nbsp; a) Video on Algorithms <br>\n",
    " &nbsp;&nbsp;&nbsp;&nbsp; b) How it Works <br>\n",
    "5) <b>Exercises</b> <br>\n",
    " &nbsp;&nbsp;&nbsp;&nbsp; a) Exercise #1 - Reverse a List in Place Using an In-Place Algorithm <br>\n",
    " &nbsp;&nbsp;&nbsp;&nbsp; b) Exercise #2 - Find Distinct Words <br>\n",
    " &nbsp;&nbsp;&nbsp;&nbsp; c) Exercise #3 - Write a program to implement a Linear Search Algorithm. <br>"
   ]
  },
  {
   "cell_type": "markdown",
   "metadata": {},
   "source": [
    "## In-Place Algorithms"
   ]
  },
  {
   "cell_type": "markdown",
   "metadata": {},
   "source": [
    "#### Syntax"
   ]
  },
  {
   "cell_type": "code",
   "execution_count": 3,
   "metadata": {},
   "outputs": [
    {
     "name": "stdout",
     "output_type": "stream",
     "text": [
      "2530397895360\n",
      "2530397895360\n"
     ]
    }
   ],
   "source": [
    "#inplace is an algo that modifies the original variable in its place and memory\n",
    "#these algos typically don't return anything \n",
    " \n",
    "def swap(alist, x,y,z):\n",
    "    alist[x], alist [y], alist[z] = alist[y], alist[z], alist[x]\n",
    "\n",
    "my_list = [1,2,3]\n",
    "print(id(my_list))\n",
    "\n",
    "swap(my_list, 0, 1, 2)\n",
    "\n",
    "print(id(my_list))"
   ]
  },
  {
   "cell_type": "markdown",
   "metadata": {},
   "source": [
    "#### Out of Place Algorithm"
   ]
  },
  {
   "cell_type": "code",
   "execution_count": 6,
   "metadata": {},
   "outputs": [
    {
     "name": "stdout",
     "output_type": "stream",
     "text": [
      "2530397936704\n",
      "[3, 2, 1]\n",
      "2530397895360\n"
     ]
    }
   ],
   "source": [
    "#out of place algos dont modify the original. they use the values, but restore the modification in a new place and memory\n",
    "\n",
    "def out_swap(alist):\n",
    "    output = []\n",
    "    for ele in alist[::-1]:\n",
    "        output.append(ele)\n",
    "    return output\n",
    "\n",
    "my_list = [1,2,3]\n",
    "print(id(my_list))\n",
    "\n",
    "my_list = out_swap(my_list)\n",
    "\n",
    "print(my_list)\n",
    "print(id(my_list))"
   ]
  },
  {
   "cell_type": "markdown",
   "metadata": {},
   "source": [
    "#### In-Class Exercise #1 <br>\n",
    "<p>Write a function that takes in four arguments (list, index1, index2, index3), and swaps those three positions in the list passed in.</p>"
   ]
  },
  {
   "cell_type": "code",
   "execution_count": 7,
   "metadata": {},
   "outputs": [
    {
     "name": "stdout",
     "output_type": "stream",
     "text": [
      "[10, 3, 8, 4, 4, 2, 6]\n"
     ]
    }
   ],
   "source": [
    "l_1 = [10, 4, 3, 8, 4, 2, 6]\n",
    "\n",
    "def swap(alist, x,y,z):\n",
    "    alist[x], alist [y], alist[z] = alist[y], alist[z], alist[x]\n",
    "\n",
    "swap(l_1, 1,2,3)\n",
    "\n",
    "print(l_1)"
   ]
  },
  {
   "cell_type": "markdown",
   "metadata": {},
   "source": [
    "## Two Pointers"
   ]
  },
  {
   "cell_type": "markdown",
   "metadata": {},
   "source": [
    "#### Syntax"
   ]
  },
  {
   "cell_type": "code",
   "execution_count": 9,
   "metadata": {},
   "outputs": [
    {
     "name": "stdout",
     "output_type": "stream",
     "text": [
      "[6, 5, 4, 3, 2, 1]\n"
     ]
    }
   ],
   "source": [
    "#an algo that keeps track of two indicese (two pointers)\n",
    "#\n",
    "\n",
    "this_list = [1,2,3,4,5,6]\n",
    "\n",
    "def two_p_swap(alist):\n",
    "    left = 0\n",
    "    right = len(alist) - 1\n",
    "    while left <= right:\n",
    "        alist[left], alist[right] = alist[right], alist[left]\n",
    "        left += 1\n",
    "        right -= 1\n",
    "\n",
    "two_p_swap(this_list)\n",
    "print(this_list)\n"
   ]
  },
  {
   "cell_type": "markdown",
   "metadata": {},
   "source": [
    "#### Video of Algorithms <br>\n",
    "<p>Watch the video about algorithms.</p>\n",
    "\n",
    "https://www.youtube.com/watch?v=Q9HjeFD62Uk\n",
    "\n",
    "https://www.youtube.com/watch?v=kPRA0W1kECg\n",
    "\n",
    "https://www.youtube.com/watch?v=ZZuD6iUe3Pc"
   ]
  },
  {
   "cell_type": "markdown",
   "metadata": {},
   "source": [
    "# Sorting Algorithms"
   ]
  },
  {
   "cell_type": "markdown",
   "metadata": {},
   "source": [
    "#### Bubble Sort\n",
    "\n",
    "Worst Case: O(n^2) Time - O(1) Space"
   ]
  },
  {
   "cell_type": "code",
   "execution_count": 1,
   "metadata": {},
   "outputs": [
    {
     "name": "stdout",
     "output_type": "stream",
     "text": [
      "pass 1\n",
      "[8, 3, 5, 2, 9, 10, 1, 4]\n",
      "[3, 8, 5, 2, 9, 10, 1, 4]\n",
      "[3, 5, 8, 2, 9, 10, 1, 4]\n",
      "[3, 5, 2, 8, 9, 10, 1, 4]\n",
      "[3, 5, 2, 8, 9, 10, 1, 4]\n",
      "[3, 5, 2, 8, 9, 10, 1, 4]\n",
      "[3, 5, 2, 8, 9, 1, 10, 4]\n",
      "[3, 5, 2, 8, 9, 1, 4, 10]\n",
      "pass 2\n",
      "[3, 5, 2, 8, 9, 1, 4, 10]\n",
      "[3, 5, 2, 8, 9, 1, 4, 10]\n",
      "[3, 2, 5, 8, 9, 1, 4, 10]\n",
      "[3, 2, 5, 8, 9, 1, 4, 10]\n",
      "[3, 2, 5, 8, 9, 1, 4, 10]\n",
      "[3, 2, 5, 8, 1, 9, 4, 10]\n",
      "[3, 2, 5, 8, 1, 4, 9, 10]\n",
      "[3, 2, 5, 8, 1, 4, 9, 10]\n",
      "pass 3\n",
      "[3, 2, 5, 8, 1, 4, 9, 10]\n",
      "[2, 3, 5, 8, 1, 4, 9, 10]\n",
      "[2, 3, 5, 8, 1, 4, 9, 10]\n",
      "[2, 3, 5, 8, 1, 4, 9, 10]\n",
      "[2, 3, 5, 1, 8, 4, 9, 10]\n",
      "[2, 3, 5, 1, 4, 8, 9, 10]\n",
      "[2, 3, 5, 1, 4, 8, 9, 10]\n",
      "[2, 3, 5, 1, 4, 8, 9, 10]\n",
      "pass 4\n",
      "[2, 3, 5, 1, 4, 8, 9, 10]\n",
      "[2, 3, 5, 1, 4, 8, 9, 10]\n",
      "[2, 3, 5, 1, 4, 8, 9, 10]\n",
      "[2, 3, 1, 5, 4, 8, 9, 10]\n",
      "[2, 3, 1, 4, 5, 8, 9, 10]\n",
      "[2, 3, 1, 4, 5, 8, 9, 10]\n",
      "[2, 3, 1, 4, 5, 8, 9, 10]\n",
      "[2, 3, 1, 4, 5, 8, 9, 10]\n",
      "pass 5\n",
      "[2, 3, 1, 4, 5, 8, 9, 10]\n",
      "[2, 3, 1, 4, 5, 8, 9, 10]\n",
      "[2, 1, 3, 4, 5, 8, 9, 10]\n",
      "[2, 1, 3, 4, 5, 8, 9, 10]\n",
      "[2, 1, 3, 4, 5, 8, 9, 10]\n",
      "[2, 1, 3, 4, 5, 8, 9, 10]\n",
      "[2, 1, 3, 4, 5, 8, 9, 10]\n",
      "[2, 1, 3, 4, 5, 8, 9, 10]\n",
      "pass 6\n",
      "[2, 1, 3, 4, 5, 8, 9, 10]\n",
      "[1, 2, 3, 4, 5, 8, 9, 10]\n",
      "[1, 2, 3, 4, 5, 8, 9, 10]\n",
      "[1, 2, 3, 4, 5, 8, 9, 10]\n",
      "[1, 2, 3, 4, 5, 8, 9, 10]\n",
      "[1, 2, 3, 4, 5, 8, 9, 10]\n",
      "[1, 2, 3, 4, 5, 8, 9, 10]\n",
      "[1, 2, 3, 4, 5, 8, 9, 10]\n",
      "pass 7\n",
      "[1, 2, 3, 4, 5, 8, 9, 10]\n",
      "[1, 2, 3, 4, 5, 8, 9, 10]\n",
      "[1, 2, 3, 4, 5, 8, 9, 10]\n",
      "[1, 2, 3, 4, 5, 8, 9, 10]\n",
      "[1, 2, 3, 4, 5, 8, 9, 10]\n",
      "[1, 2, 3, 4, 5, 8, 9, 10]\n",
      "[1, 2, 3, 4, 5, 8, 9, 10]\n",
      "[1, 2, 3, 4, 5, 8, 9, 10]\n",
      "[1, 2, 3, 4, 5, 8, 9, 10]\n"
     ]
    }
   ],
   "source": [
    "#places the next largest ele in position with every single pass\n",
    "\n",
    "alist = [8,3,5,2,9,10,1,4]\n",
    "\n",
    "def swap(alist, x, y):\n",
    "    alist[x], alist[y] = alist[y], alist[x]\n",
    "\n",
    "def bubble(alist):\n",
    "    isSorted = False\n",
    "\n",
    "    p = 0\n",
    "    while not isSorted:\n",
    "        p+=1\n",
    "        print(f'pass {p}')\n",
    "        isSorted = True\n",
    "\n",
    "        for index in range(len(alist)-1):\n",
    "            print(alist)\n",
    "            if alist[index] > alist[index + 1]:\n",
    "                swap(alist, index, index + 1)\n",
    "                isSorted = False\n",
    "        print(alist)\n",
    "    \n",
    "bubble(alist)\n",
    "print(alist)"
   ]
  },
  {
   "cell_type": "markdown",
   "metadata": {},
   "source": [
    "##### Insertion Sort\n",
    "\n",
    "Worst Case: O(n^2) time - O(1)space"
   ]
  },
  {
   "cell_type": "code",
   "execution_count": 2,
   "metadata": {},
   "outputs": [
    {
     "name": "stdout",
     "output_type": "stream",
     "text": [
      "[8]\n",
      "3\n",
      "[8, 3]\n",
      "[3, 8]\n",
      "5\n",
      "[3, 8, 5]\n",
      "[3, 5, 8]\n",
      "2\n",
      "[3, 5, 8, 2]\n",
      "[3, 5, 2]\n",
      "[3, 2]\n",
      "[2, 3, 5, 8]\n",
      "9\n",
      "[2, 3, 5, 8, 9]\n",
      "10\n",
      "[2, 3, 5, 8, 9, 10]\n",
      "1\n",
      "[2, 3, 5, 8, 9, 10, 1]\n",
      "[2, 3, 5, 8, 9, 1]\n",
      "[2, 3, 5, 8, 1]\n",
      "[2, 3, 5, 1]\n",
      "[2, 3, 1]\n",
      "[2, 1]\n",
      "[1, 2, 3, 5, 8, 9, 10]\n",
      "4\n",
      "[1, 2, 3, 5, 8, 9, 10, 4]\n",
      "[1, 2, 3, 5, 8, 9, 4]\n",
      "[1, 2, 3, 5, 8, 4]\n",
      "[1, 2, 3, 5, 4]\n",
      "[1, 2, 3, 4, 5, 8, 9, 10]\n"
     ]
    }
   ],
   "source": [
    "#starting from the beginning inserting the next value into the \"sorted\" values\n",
    "\n",
    "alist = [8,3,5,2,9,10,1,4]\n",
    "\n",
    "def swap(alist, x, y):\n",
    "    alist[x], alist[y] = alist[y], alist[x]\n",
    "\n",
    "def insertion(alist):\n",
    "    for i in range(1, len(alist)):\n",
    "        print(alist[:i])\n",
    "        print(alist[i])\n",
    "        while i > 0 and alist[i] < alist[i-1]:\n",
    "            print(alist[:i+1])\n",
    "            swap(alist, i, i-1)\n",
    "            i -= 1\n",
    "\n",
    "insertion(alist)\n",
    "print(alist)"
   ]
  },
  {
   "cell_type": "markdown",
   "metadata": {},
   "source": [
    "## Merge Sort"
   ]
  },
  {
   "cell_type": "markdown",
   "metadata": {},
   "source": [
    "#### How it Works"
   ]
  },
  {
   "cell_type": "code",
   "execution_count": 3,
   "metadata": {},
   "outputs": [
    {
     "name": "stdout",
     "output_type": "stream",
     "text": [
      "SPLITTING: [8, 3, 5, 2, 9, 10, 1, 4]\n",
      "Left Half: [8, 3, 5, 2] --- Right Half: [9, 10, 1, 4]\n",
      "SPLITTING: [8, 3, 5, 2]\n",
      "Left Half: [8, 3] --- Right Half: [5, 2]\n",
      "SPLITTING: [8, 3]\n",
      "Left Half: [8] --- Right Half: [3]\n",
      "MERGING: Left [8] --- Right [3]\n",
      "One side empty\n",
      "FILLING from other side\n",
      "MERGE COMPLETE [3, 8]\n",
      "SPLITTING: [5, 2]\n",
      "Left Half: [5] --- Right Half: [2]\n",
      "MERGING: Left [5] --- Right [2]\n",
      "One side empty\n",
      "FILLING from other side\n",
      "MERGE COMPLETE [2, 5]\n",
      "MERGING: Left [3, 8] --- Right [2, 5]\n",
      "One side empty\n",
      "FILLING from other side\n",
      "MERGE COMPLETE [2, 3, 5, 8]\n",
      "SPLITTING: [9, 10, 1, 4]\n",
      "Left Half: [9, 10] --- Right Half: [1, 4]\n",
      "SPLITTING: [9, 10]\n",
      "Left Half: [9] --- Right Half: [10]\n",
      "MERGING: Left [9] --- Right [10]\n",
      "One side empty\n",
      "FILLING from other side\n",
      "MERGE COMPLETE [9, 10]\n",
      "SPLITTING: [1, 4]\n",
      "Left Half: [1] --- Right Half: [4]\n",
      "MERGING: Left [1] --- Right [4]\n",
      "One side empty\n",
      "FILLING from other side\n",
      "MERGE COMPLETE [1, 4]\n",
      "MERGING: Left [9, 10] --- Right [1, 4]\n",
      "One side empty\n",
      "FILLING from other side\n",
      "MERGE COMPLETE [1, 4, 9, 10]\n",
      "MERGING: Left [2, 3, 5, 8] --- Right [1, 4, 9, 10]\n",
      "One side empty\n",
      "FILLING from other side\n",
      "MERGE COMPLETE [1, 2, 3, 4, 5, 8, 9, 10]\n",
      "[1, 2, 3, 4, 5, 8, 9, 10]\n"
     ]
    }
   ],
   "source": [
    "alist = [8,3,5,2,9,10,1,4]\n",
    "\n",
    "def mergeSort(alist):\n",
    "\n",
    "    if len(alist) > 1:\n",
    "        #first step split all the way down the left side (followed by the right)\n",
    "\n",
    "        middle = len(alist) // 2\n",
    "        left_half = alist[:middle]\n",
    "        right_half = alist[middle:]\n",
    "        print(f'SPLITTING: {alist}')\n",
    "        print(f'Left Half: {left_half} --- Right Half: {right_half}')\n",
    "\n",
    "        mergeSort(left_half)\n",
    "        mergeSort(right_half)\n",
    "\n",
    "\n",
    "        i = 0 #tracking left pointer\n",
    "        j = 0 #tracking right pointer\n",
    "        k = 0 #tracking main list pointer\n",
    "\n",
    "        print(f'MERGING: Left {left_half} --- Right {right_half}')\n",
    "        #comparing and sorting the elements from left and right until one list is empty\n",
    "\n",
    "        while i < len(left_half) and j < len(right_half):\n",
    "            if left_half[i] < right_half[j]:\n",
    "                alist[k] = left_half[i]\n",
    "                i += 1\n",
    "            else:\n",
    "                alist[k] = right_half[j]\n",
    "                j += 1\n",
    "            k += 1\n",
    "        print('One side empty')\n",
    "        #once a list is empty\n",
    "        #fill in from the other list\n",
    "\n",
    "        print('FILLING from other side')\n",
    "        while i < len(left_half):\n",
    "            alist[k] = left_half[i]\n",
    "            i+= 1\n",
    "            k+= 1\n",
    "\n",
    "        while j < len(right_half):\n",
    "            alist[k] = right_half[j]\n",
    "            j+=1\n",
    "            k+=1\n",
    "        print(f'MERGE COMPLETE {alist}')\n",
    "        \n",
    "    #return alist -- inplace don't need to return\n",
    "\n",
    "mergeSort(alist)\n",
    "print(alist)"
   ]
  },
  {
   "cell_type": "markdown",
   "metadata": {},
   "source": [
    "# Binary Search\n",
    "\n",
    "The Binary Search algorithm works by finding the number in the middle of a given array and comparing it to the target. Given that the array is sorted\n",
    "\n",
    "* The worst case run time for this algorithm is `O(log(n))`"
   ]
  },
  {
   "cell_type": "code",
   "execution_count": 4,
   "metadata": {},
   "outputs": [
    {
     "data": {
      "text/plain": [
       "'WINNER WINNER CHICKEN DINNER found 8 at index 7'"
      ]
     },
     "execution_count": 4,
     "metadata": {},
     "output_type": "execute_result"
    }
   ],
   "source": [
    "def binarSearch(alist, target):\n",
    "    left = 0\n",
    "    right = len(alist) - 1\n",
    "    while left <= right:\n",
    "        middle = (left + right) // 2\n",
    "        potential = alist[middle]\n",
    "        if target == potential:\n",
    "            return f'WINNER WINNER CHICKEN DINNER found {target} at index {middle}'\n",
    "        if target > potential:\n",
    "            left = middle + 1\n",
    "        elif target < potential:\n",
    "            right = middle -1\n",
    "    return 'Target not found'\n",
    "\n",
    "binarSearch([1,2,3,4,5,6,7,8,22,45,64,78,90,1000], 8)"
   ]
  },
  {
   "cell_type": "markdown",
   "metadata": {},
   "source": [
    "# Exercises"
   ]
  },
  {
   "cell_type": "markdown",
   "metadata": {},
   "source": [
    "### Exercise #1 <br>\n",
    "<p>Reverse the list below in-place using an in-place algorithm.<br>For extra credit: Reverse the strings at the same time.</p>"
   ]
  },
  {
   "cell_type": "code",
   "execution_count": 1,
   "metadata": {},
   "outputs": [
    {
     "name": "stdout",
     "output_type": "stream",
     "text": [
      "['.', 'sentence', 'a', 'is', 'this']\n"
     ]
    }
   ],
   "source": [
    "#NO HARD CODING USE TWO POINTERS \n",
    "#MAKE IT FLEX\n",
    "\n",
    "words = ['this' , 'is', 'a', 'sentence', '.']\n",
    "\n",
    "def two_p_swap(alist):\n",
    "    left = 0              #pointer one\n",
    "    right = len(alist) -1 #pointer two\n",
    "    \n",
    "    while left <= right:\n",
    "        alist[left], alist[right] = alist[right], alist[left]\n",
    "        left += 1\n",
    "        right -= 1\n",
    "\n",
    "two_p_swap(words)\n",
    "print(words)\n"
   ]
  },
  {
   "cell_type": "markdown",
   "metadata": {},
   "source": [
    "### Exercise #2 <br>\n",
    "<p>Create a function that counts how many distinct words are in the string below, then outputs a dictionary with the words as the key and the value as the amount of times that word appears in the string.<br>Should output:<br>{'a': 5,<br>\n",
    " 'abstract': 1,<br>\n",
    " 'an': 3,<br>\n",
    " 'array': 2, ... etc...</p>"
   ]
  },
  {
   "cell_type": "code",
   "execution_count": 3,
   "metadata": {},
   "outputs": [
    {
     "name": "stdout",
     "output_type": "stream",
     "text": [
      "in: 1\n",
      "computing: 1\n",
      "a: 5\n",
      "hash: 4\n",
      "table: 2\n",
      "map: 2\n",
      "is: 1\n",
      "data: 2\n",
      "structure: 2\n",
      "which: 2\n",
      "implements: 1\n",
      "an: 3\n",
      "associative: 1\n",
      "array: 2\n",
      "abstract: 1\n",
      "type: 1\n",
      "that: 1\n",
      "can: 2\n",
      "keys: 1\n",
      "to: 2\n",
      "values: 1\n",
      "uses: 1\n",
      "function: 1\n",
      "compute: 1\n",
      "index: 1\n",
      "into: 1\n",
      "of: 1\n",
      "buckets: 1\n",
      "or: 1\n",
      "slots: 1\n",
      "from: 1\n",
      "the: 1\n",
      "desired: 1\n",
      "value: 1\n",
      "be: 1\n",
      "found: 1\n"
     ]
    }
   ],
   "source": [
    "#casing matters in and In are the same !!! .split()\n",
    "#extra credit should be able ignore punctuation hint: .strip()\n",
    "a_text = 'In computing, a hash table hash map is a data structure which implements an associative array abstract data type, a structure that can map keys to values. A hash table uses a hash function to compute an index into an array of buckets or slots from which the desired value can be found'\n",
    "\n",
    "def countWords(a_text):\n",
    "    word_list = a_text.split() #splitting the text into a list of words\n",
    "    word_count = {}   #creating an empty dictionary to store wordcount\n",
    "\n",
    "    for word in word_list:\n",
    "        word = word.lower().strip(',.')  #converting word to lower case and removing any punctuation\n",
    "        if word in word_count:\n",
    "            word_count[word] += 1  #if the word is already in the dictionary then add 1\n",
    "        else:\n",
    "            word_count[word] = 1  #else add it to the dictionary\n",
    "\n",
    "    total_word_count = len(word_count)   #return the total number of different words and its count in a dictionary\n",
    "    return total_word_count, word_count\n",
    "\n",
    "distinct_count, word_frequency = countWords(a_text)   #call the function\n",
    "\n",
    "for word, count in word_frequency.items():   #print each word out and its count\n",
    "    print(f'{word}: {count}')\n",
    "\n",
    "\n",
    "\n",
    "\n",
    "\n",
    "\n"
   ]
  },
  {
   "cell_type": "markdown",
   "metadata": {},
   "source": [
    "## Exercise #3\n",
    "\n",
    "Write a program to implement a Linear Search Algorithm. Also in a comment, write the Time Complexity of the following algorithm.\n",
    "\n",
    "#### Hint: Linear Searching will require searching a list for a given number. "
   ]
  },
  {
   "cell_type": "code",
   "execution_count": 4,
   "metadata": {},
   "outputs": [],
   "source": [
    "#is it the first ele, the second ele, the third ele,"
   ]
  },
  {
   "cell_type": "code",
   "execution_count": null,
   "metadata": {},
   "outputs": [],
   "source": [
    "a_list = [10,2,34,5,1,234,7] #i defined my own list\n",
    "\n",
    "#this function will search each value in the list\n",
    "def search(list, value):\n",
    "    for i in range(len(list)): #iterate\n",
    "        if list[i] == value: #checking if element is equal to targeted value\n",
    "            return i #return index if element is found \n",
    "        return -1 # if the value is not found\n",
    "        \n",
    "value_needed = 10 #value we want to find   **found at index 0\n",
    "value_needed = 8    #***  not found\n",
    "\n",
    "#calling the function to find the ***VALUE_NEEDED*** in our ***A_LIST***\n",
    "result = search(a_list, value_needed)\n",
    "\n",
    "#check value and print result!!!\n",
    "if result != -1:\n",
    "    print(f'Your target value was found at index {result} :D')\n",
    "else: \n",
    "    print(\"Sorry your target value was not found in the list :(\")"
   ]
  }
 ],
 "metadata": {
  "kernelspec": {
   "display_name": "Python 3",
   "language": "python",
   "name": "python3"
  },
  "language_info": {
   "codemirror_mode": {
    "name": "ipython",
    "version": 3
   },
   "file_extension": ".py",
   "mimetype": "text/x-python",
   "name": "python",
   "nbconvert_exporter": "python",
   "pygments_lexer": "ipython3",
   "version": "3.10.9"
  }
 },
 "nbformat": 4,
 "nbformat_minor": 2
}
